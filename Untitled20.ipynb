{
 "cells": [
  {
   "cell_type": "markdown",
   "metadata": {},
   "source": [
    "Market Basket Analysis of Online Grocery Shopping Site"
   ]
  },
  {
   "cell_type": "code",
   "execution_count": 1,
   "metadata": {},
   "outputs": [],
   "source": [
    "#find a csv of transaction of grocery site\n",
    "url='https://cdn.rawgit.com/aviram2308/vp-mkt-bskt-anlsis/5a0c4269/groceries.csv'\n"
   ]
  },
  {
   "cell_type": "code",
   "execution_count": 2,
   "metadata": {},
   "outputs": [
    {
     "name": "stderr",
     "output_type": "stream",
     "text": [
      "Loading required package: Matrix\n",
      "\n",
      "Attaching package: 'arules'\n",
      "\n",
      "The following objects are masked from 'package:base':\n",
      "\n",
      "    abbreviate, write\n",
      "\n"
     ]
    }
   ],
   "source": [
    "#import the following package for association rule\n",
    "library(arules)\n"
   ]
  },
  {
   "cell_type": "code",
   "execution_count": 5,
   "metadata": {},
   "outputs": [],
   "source": [
    "#making a item matrix df\n",
    "df=read.transactions(url,sep=',') \n",
    "\n"
   ]
  },
  {
   "cell_type": "code",
   "execution_count": 20,
   "metadata": {},
   "outputs": [
    {
     "data": {
      "text/plain": [
       "transactions in sparse format with\n",
       " 9835 transactions (rows) and\n",
       " 169 items (columns)"
      ]
     },
     "metadata": {},
     "output_type": "display_data"
    }
   ],
   "source": [
    "df"
   ]
  },
  {
   "cell_type": "code",
   "execution_count": 21,
   "metadata": {},
   "outputs": [
    {
     "data": {
      "text/plain": [
       "transactions in sparse format with\n",
       " 6 transactions (rows) and\n",
       " 169 items (columns)"
      ]
     },
     "metadata": {},
     "output_type": "display_data"
    }
   ],
   "source": [
    "head(df)"
   ]
  },
  {
   "cell_type": "code",
   "execution_count": 24,
   "metadata": {},
   "outputs": [
    {
     "name": "stdout",
     "output_type": "stream",
     "text": [
      "    items                     \n",
      "[1] {citrus fruit,            \n",
      "     margarine,               \n",
      "     ready soups,             \n",
      "     semi-finished bread}     \n",
      "[2] {coffee,                  \n",
      "     tropical fruit,          \n",
      "     yogurt}                  \n",
      "[3] {whole milk}              \n",
      "[4] {cream cheese,            \n",
      "     meat spreads,            \n",
      "     pip fruit,               \n",
      "     yogurt}                  \n",
      "[5] {condensed milk,          \n",
      "     long life bakery product,\n",
      "     other vegetables,        \n",
      "     whole milk}              \n",
      "[6] {abrasive cleaner,        \n",
      "     butter,                  \n",
      "     rice,                    \n",
      "     whole milk,              \n",
      "     yogurt}                  \n"
     ]
    }
   ],
   "source": [
    "inspect(head(df))"
   ]
  },
  {
   "cell_type": "code",
   "execution_count": 25,
   "metadata": {},
   "outputs": [
    {
     "name": "stdout",
     "output_type": "stream",
     "text": [
      "Formal class 'transactions' [package \"arules\"] with 3 slots\n",
      "  ..@ data       :Formal class 'ngCMatrix' [package \"Matrix\"] with 5 slots\n",
      "  .. .. ..@ i       : int [1:43367] 29 88 118 132 33 157 167 166 38 91 ...\n",
      "  .. .. ..@ p       : int [1:9836] 0 4 7 8 12 16 21 22 27 28 ...\n",
      "  .. .. ..@ Dim     : int [1:2] 169 9835\n",
      "  .. .. ..@ Dimnames:List of 2\n",
      "  .. .. .. ..$ : NULL\n",
      "  .. .. .. ..$ : NULL\n",
      "  .. .. ..@ factors : list()\n",
      "  ..@ itemInfo   :'data.frame':\t169 obs. of  1 variable:\n",
      "  .. ..$ labels: chr [1:169] \"abrasive cleaner\" \"artif. sweetener\" \"baby cosmetics\" \"baby food\" ...\n",
      "  ..@ itemsetInfo:'data.frame':\t0 obs. of  0 variables\n"
     ]
    }
   ],
   "source": [
    "str(df)"
   ]
  },
  {
   "cell_type": "code",
   "execution_count": 26,
   "metadata": {},
   "outputs": [
    {
     "data": {
      "text/plain": [
       "transactions as itemMatrix in sparse format with\n",
       " 9835 rows (elements/itemsets/transactions) and\n",
       " 169 columns (items) and a density of 0.02609146 \n",
       "\n",
       "most frequent items:\n",
       "      whole milk other vegetables       rolls/buns             soda \n",
       "            2513             1903             1809             1715 \n",
       "          yogurt          (Other) \n",
       "            1372            34055 \n",
       "\n",
       "element (itemset/transaction) length distribution:\n",
       "sizes\n",
       "   1    2    3    4    5    6    7    8    9   10   11   12   13   14   15   16 \n",
       "2159 1643 1299 1005  855  645  545  438  350  246  182  117   78   77   55   46 \n",
       "  17   18   19   20   21   22   23   24   26   27   28   29   32 \n",
       "  29   14   14    9   11    4    6    1    1    1    1    3    1 \n",
       "\n",
       "   Min. 1st Qu.  Median    Mean 3rd Qu.    Max. \n",
       "  1.000   2.000   3.000   4.409   6.000  32.000 \n",
       "\n",
       "includes extended item information - examples:\n",
       "            labels\n",
       "1 abrasive cleaner\n",
       "2 artif. sweetener\n",
       "3   baby cosmetics"
      ]
     },
     "metadata": {},
     "output_type": "display_data"
    }
   ],
   "source": [
    "# checking the density and other details of df\n",
    "summary(df)\n"
   ]
  },
  {
   "cell_type": "code",
   "execution_count": 27,
   "metadata": {},
   "outputs": [
    {
     "name": "stdout",
     "output_type": "stream",
     "text": [
      "    items                     \n",
      "[1] {citrus fruit,            \n",
      "     margarine,               \n",
      "     ready soups,             \n",
      "     semi-finished bread}     \n",
      "[2] {coffee,                  \n",
      "     tropical fruit,          \n",
      "     yogurt}                  \n",
      "[3] {whole milk}              \n",
      "[4] {cream cheese,            \n",
      "     meat spreads,            \n",
      "     pip fruit,               \n",
      "     yogurt}                  \n",
      "[5] {condensed milk,          \n",
      "     long life bakery product,\n",
      "     other vegetables,        \n",
      "     whole milk}              \n",
      "[6] {abrasive cleaner,        \n",
      "     butter,                  \n",
      "     rice,                    \n",
      "     whole milk,              \n",
      "     yogurt}                  \n"
     ]
    }
   ],
   "source": [
    "inspect(head(df))"
   ]
  },
  {
   "cell_type": "code",
   "execution_count": 28,
   "metadata": {},
   "outputs": [
    {
     "name": "stdout",
     "output_type": "stream",
     "text": [
      "     items                      \n",
      "[1]  {citrus fruit,             \n",
      "      margarine,                \n",
      "      ready soups,              \n",
      "      semi-finished bread}      \n",
      "[2]  {coffee,                   \n",
      "      tropical fruit,           \n",
      "      yogurt}                   \n",
      "[3]  {whole milk}               \n",
      "[4]  {cream cheese,             \n",
      "      meat spreads,             \n",
      "      pip fruit,                \n",
      "      yogurt}                   \n",
      "[5]  {condensed milk,           \n",
      "      long life bakery product, \n",
      "      other vegetables,         \n",
      "      whole milk}               \n",
      "[6]  {abrasive cleaner,         \n",
      "      butter,                   \n",
      "      rice,                     \n",
      "      whole milk,               \n",
      "      yogurt}                   \n",
      "[7]  {rolls/buns}               \n",
      "[8]  {bottled beer,             \n",
      "      liquor (appetizer),       \n",
      "      other vegetables,         \n",
      "      rolls/buns,               \n",
      "      UHT-milk}                 \n",
      "[9]  {pot plants}               \n",
      "[10] {cereals,                  \n",
      "      whole milk}               \n",
      "[11] {bottled water,            \n",
      "      chocolate,                \n",
      "      other vegetables,         \n",
      "      tropical fruit,           \n",
      "      white bread}              \n",
      "[12] {bottled water,            \n",
      "      butter,                   \n",
      "      citrus fruit,             \n",
      "      curd,                     \n",
      "      dishes,                   \n",
      "      flour,                    \n",
      "      tropical fruit,           \n",
      "      whole milk,               \n",
      "      yogurt}                   \n",
      "[13] {beef}                     \n",
      "[14] {frankfurter,              \n",
      "      rolls/buns,               \n",
      "      soda}                     \n",
      "[15] {chicken,                  \n",
      "      tropical fruit}           \n",
      "[16] {butter,                   \n",
      "      fruit/vegetable juice,    \n",
      "      newspapers,               \n",
      "      sugar}                    \n",
      "[17] {fruit/vegetable juice}    \n",
      "[18] {packaged fruit/vegetables}\n",
      "[19] {chocolate}                \n",
      "[20] {specialty bar}            \n"
     ]
    }
   ],
   "source": [
    "#items of first 20 transactions\n",
    "inspect(head(df,20))\n"
   ]
  },
  {
   "cell_type": "code",
   "execution_count": 29,
   "metadata": {},
   "outputs": [
    {
     "name": "stdout",
     "output_type": "stream",
     "text": [
      "     items                      \n",
      "[1]  {citrus fruit,             \n",
      "      margarine,                \n",
      "      ready soups,              \n",
      "      semi-finished bread}      \n",
      "[2]  {coffee,                   \n",
      "      tropical fruit,           \n",
      "      yogurt}                   \n",
      "[3]  {whole milk}               \n",
      "[4]  {cream cheese,             \n",
      "      meat spreads,             \n",
      "      pip fruit,                \n",
      "      yogurt}                   \n",
      "[5]  {condensed milk,           \n",
      "      long life bakery product, \n",
      "      other vegetables,         \n",
      "      whole milk}               \n",
      "[6]  {abrasive cleaner,         \n",
      "      butter,                   \n",
      "      rice,                     \n",
      "      whole milk,               \n",
      "      yogurt}                   \n",
      "[7]  {rolls/buns}               \n",
      "[8]  {bottled beer,             \n",
      "      liquor (appetizer),       \n",
      "      other vegetables,         \n",
      "      rolls/buns,               \n",
      "      UHT-milk}                 \n",
      "[9]  {pot plants}               \n",
      "[10] {cereals,                  \n",
      "      whole milk}               \n",
      "[11] {bottled water,            \n",
      "      chocolate,                \n",
      "      other vegetables,         \n",
      "      tropical fruit,           \n",
      "      white bread}              \n",
      "[12] {bottled water,            \n",
      "      butter,                   \n",
      "      citrus fruit,             \n",
      "      curd,                     \n",
      "      dishes,                   \n",
      "      flour,                    \n",
      "      tropical fruit,           \n",
      "      whole milk,               \n",
      "      yogurt}                   \n",
      "[13] {beef}                     \n",
      "[14] {frankfurter,              \n",
      "      rolls/buns,               \n",
      "      soda}                     \n",
      "[15] {chicken,                  \n",
      "      tropical fruit}           \n",
      "[16] {butter,                   \n",
      "      fruit/vegetable juice,    \n",
      "      newspapers,               \n",
      "      sugar}                    \n",
      "[17] {fruit/vegetable juice}    \n",
      "[18] {packaged fruit/vegetables}\n",
      "[19] {chocolate}                \n",
      "[20] {specialty bar}            \n"
     ]
    }
   ],
   "source": [
    "inspect(df[1:20])"
   ]
  },
  {
   "cell_type": "code",
   "execution_count": 70,
   "metadata": {},
   "outputs": [
    {
     "name": "stdout",
     "output_type": "stream",
     "text": [
      "     items                                      \n",
      "[1]  {}                                         \n",
      "[2]  {}                                         \n",
      "[3]  {}                                         \n",
      "[4]  {}                                         \n",
      "[5]  {}                                         \n",
      "[6]  {abrasive cleaner,butter}                  \n",
      "[7]  {}                                         \n",
      "[8]  {bottled beer}                             \n",
      "[9]  {}                                         \n",
      "[10] {}                                         \n",
      "[11] {bottled water}                            \n",
      "[12] {bottled water,butter}                     \n",
      "[13] {beef}                                     \n",
      "[14] {}                                         \n",
      "[15] {}                                         \n",
      "[16] {butter}                                   \n",
      "[17] {}                                         \n",
      "[18] {}                                         \n",
      "[19] {}                                         \n",
      "[20] {}                                         \n",
      "[21] {}                                         \n",
      "[22] {butter milk}                              \n",
      "[23] {}                                         \n",
      "[24] {}                                         \n",
      "[25] {bathroom cleaner,candy}                   \n",
      "[26] {bottled water,canned beer}                \n",
      "[27] {}                                         \n",
      "[28] {}                                         \n",
      "[29] {}                                         \n",
      "[30] {brown bread,canned beer}                  \n",
      "[31] {beverages,bottled water}                  \n",
      "[32] {bottled water}                            \n",
      "[33] {beverages}                                \n",
      "[34] {abrasive cleaner,artif. sweetener,berries}\n",
      "[35] {beef}                                     \n",
      "[36] {}                                         \n",
      "[37] {}                                         \n",
      "[38] {canned beer}                              \n",
      "[39] {}                                         \n",
      "[40] {}                                         \n",
      "[41] {canned beer}                              \n",
      "[42] {brown bread,candy}                        \n",
      "[43] {berries}                                  \n",
      "[44] {canned beer}                              \n",
      "[45] {bottled water,butter milk}                \n",
      "[46] {}                                         \n",
      "[47] {bottled water}                            \n",
      "[48] {}                                         \n",
      "[49] {}                                         \n",
      "[50] {bottled water,butter}                     \n"
     ]
    }
   ],
   "source": [
    "inspect(df[1:50,1:20])"
   ]
  },
  {
   "cell_type": "code",
   "execution_count": 31,
   "metadata": {},
   "outputs": [
    {
     "data": {
      "text/html": [
       "<dl class=dl-horizontal>\n",
       "\t<dt>abrasive cleaner</dt>\n",
       "\t\t<dd>0.00355871886120996</dd>\n",
       "\t<dt>artif. sweetener</dt>\n",
       "\t\t<dd>0.0032536858159634</dd>\n",
       "\t<dt>baby cosmetics</dt>\n",
       "\t\t<dd>0.000610066090493137</dd>\n",
       "\t<dt>baby food</dt>\n",
       "\t\t<dd>0.000101677681748856</dd>\n",
       "\t<dt>bags</dt>\n",
       "\t\t<dd>0.000406710726995424</dd>\n",
       "\t<dt>baking powder</dt>\n",
       "\t\t<dd>0.017691916624301</dd>\n",
       "\t<dt>bathroom cleaner</dt>\n",
       "\t\t<dd>0.00274529740721912</dd>\n",
       "\t<dt>beef</dt>\n",
       "\t\t<dd>0.0524656837824098</dd>\n",
       "\t<dt>berries</dt>\n",
       "\t\t<dd>0.033248601931876</dd>\n",
       "\t<dt>beverages</dt>\n",
       "\t\t<dd>0.0260294865277072</dd>\n",
       "</dl>\n"
      ],
      "text/latex": [
       "\\begin{description*}\n",
       "\\item[abrasive cleaner] 0.00355871886120996\n",
       "\\item[artif. sweetener] 0.0032536858159634\n",
       "\\item[baby cosmetics] 0.000610066090493137\n",
       "\\item[baby food] 0.000101677681748856\n",
       "\\item[bags] 0.000406710726995424\n",
       "\\item[baking powder] 0.017691916624301\n",
       "\\item[bathroom cleaner] 0.00274529740721912\n",
       "\\item[beef] 0.0524656837824098\n",
       "\\item[berries] 0.033248601931876\n",
       "\\item[beverages] 0.0260294865277072\n",
       "\\end{description*}\n"
      ],
      "text/markdown": [
       "abrasive cleaner\n",
       ":   0.00355871886120996artif. sweetener\n",
       ":   0.0032536858159634baby cosmetics\n",
       ":   0.000610066090493137baby food\n",
       ":   0.000101677681748856bags\n",
       ":   0.000406710726995424baking powder\n",
       ":   0.017691916624301bathroom cleaner\n",
       ":   0.00274529740721912beef\n",
       ":   0.0524656837824098berries\n",
       ":   0.033248601931876beverages\n",
       ":   0.0260294865277072\n",
       "\n"
      ],
      "text/plain": [
       "abrasive cleaner artif. sweetener   baby cosmetics        baby food \n",
       "    0.0035587189     0.0032536858     0.0006100661     0.0001016777 \n",
       "            bags    baking powder bathroom cleaner             beef \n",
       "    0.0004067107     0.0176919166     0.0027452974     0.0524656838 \n",
       "         berries        beverages \n",
       "    0.0332486019     0.0260294865 "
      ]
     },
     "metadata": {},
     "output_type": "display_data"
    }
   ],
   "source": [
    "#frequency of first 20 items alphabetically \n",
    "itemFrequency(df[,1:10])\n"
   ]
  },
  {
   "cell_type": "code",
   "execution_count": 32,
   "metadata": {},
   "outputs": [
    {
     "data": {
      "text/html": [
       "<dl class=dl-horizontal>\n",
       "\t<dt>abrasive cleaner</dt>\n",
       "\t\t<dd>0.00355871886120996</dd>\n",
       "\t<dt>artif. sweetener</dt>\n",
       "\t\t<dd>0.0032536858159634</dd>\n",
       "\t<dt>baby cosmetics</dt>\n",
       "\t\t<dd>0.000610066090493137</dd>\n",
       "\t<dt>baby food</dt>\n",
       "\t\t<dd>0.000101677681748856</dd>\n",
       "\t<dt>bags</dt>\n",
       "\t\t<dd>0.000406710726995424</dd>\n",
       "\t<dt>baking powder</dt>\n",
       "\t\t<dd>0.017691916624301</dd>\n",
       "\t<dt>bathroom cleaner</dt>\n",
       "\t\t<dd>0.00274529740721912</dd>\n",
       "\t<dt>beef</dt>\n",
       "\t\t<dd>0.0524656837824098</dd>\n",
       "\t<dt>berries</dt>\n",
       "\t\t<dd>0.033248601931876</dd>\n",
       "\t<dt>beverages</dt>\n",
       "\t\t<dd>0.0260294865277072</dd>\n",
       "\t<dt>bottled beer</dt>\n",
       "\t\t<dd>0.0805287239450941</dd>\n",
       "\t<dt>bottled water</dt>\n",
       "\t\t<dd>0.110523640061007</dd>\n",
       "\t<dt>brandy</dt>\n",
       "\t\t<dd>0.0041687849517031</dd>\n",
       "\t<dt>brown bread</dt>\n",
       "\t\t<dd>0.0648703609557702</dd>\n",
       "\t<dt>butter</dt>\n",
       "\t\t<dd>0.0554143365531266</dd>\n",
       "\t<dt>butter milk</dt>\n",
       "\t\t<dd>0.0279613624809354</dd>\n",
       "\t<dt>cake bar</dt>\n",
       "\t\t<dd>0.0132180986273513</dd>\n",
       "\t<dt>candles</dt>\n",
       "\t\t<dd>0.00894763599389934</dd>\n",
       "\t<dt>candy</dt>\n",
       "\t\t<dd>0.0298932384341637</dd>\n",
       "\t<dt>canned beer</dt>\n",
       "\t\t<dd>0.0776817488561261</dd>\n",
       "\t<dt>canned fish</dt>\n",
       "\t\t<dd>0.0150482968988307</dd>\n",
       "\t<dt>canned fruit</dt>\n",
       "\t\t<dd>0.0032536858159634</dd>\n",
       "\t<dt>canned vegetables</dt>\n",
       "\t\t<dd>0.0107778342653787</dd>\n",
       "\t<dt>cat food</dt>\n",
       "\t\t<dd>0.0232841891204881</dd>\n",
       "\t<dt>cereals</dt>\n",
       "\t\t<dd>0.00569395017793594</dd>\n",
       "\t<dt>chewing gum</dt>\n",
       "\t\t<dd>0.0210472801220132</dd>\n",
       "\t<dt>chicken</dt>\n",
       "\t\t<dd>0.0429079816980173</dd>\n",
       "\t<dt>chocolate</dt>\n",
       "\t\t<dd>0.0496187086934418</dd>\n",
       "\t<dt>chocolate marshmallow</dt>\n",
       "\t\t<dd>0.0090493136756482</dd>\n",
       "\t<dt>citrus fruit</dt>\n",
       "\t\t<dd>0.0827656329435689</dd>\n",
       "</dl>\n"
      ],
      "text/latex": [
       "\\begin{description*}\n",
       "\\item[abrasive cleaner] 0.00355871886120996\n",
       "\\item[artif. sweetener] 0.0032536858159634\n",
       "\\item[baby cosmetics] 0.000610066090493137\n",
       "\\item[baby food] 0.000101677681748856\n",
       "\\item[bags] 0.000406710726995424\n",
       "\\item[baking powder] 0.017691916624301\n",
       "\\item[bathroom cleaner] 0.00274529740721912\n",
       "\\item[beef] 0.0524656837824098\n",
       "\\item[berries] 0.033248601931876\n",
       "\\item[beverages] 0.0260294865277072\n",
       "\\item[bottled beer] 0.0805287239450941\n",
       "\\item[bottled water] 0.110523640061007\n",
       "\\item[brandy] 0.0041687849517031\n",
       "\\item[brown bread] 0.0648703609557702\n",
       "\\item[butter] 0.0554143365531266\n",
       "\\item[butter milk] 0.0279613624809354\n",
       "\\item[cake bar] 0.0132180986273513\n",
       "\\item[candles] 0.00894763599389934\n",
       "\\item[candy] 0.0298932384341637\n",
       "\\item[canned beer] 0.0776817488561261\n",
       "\\item[canned fish] 0.0150482968988307\n",
       "\\item[canned fruit] 0.0032536858159634\n",
       "\\item[canned vegetables] 0.0107778342653787\n",
       "\\item[cat food] 0.0232841891204881\n",
       "\\item[cereals] 0.00569395017793594\n",
       "\\item[chewing gum] 0.0210472801220132\n",
       "\\item[chicken] 0.0429079816980173\n",
       "\\item[chocolate] 0.0496187086934418\n",
       "\\item[chocolate marshmallow] 0.0090493136756482\n",
       "\\item[citrus fruit] 0.0827656329435689\n",
       "\\end{description*}\n"
      ],
      "text/markdown": [
       "abrasive cleaner\n",
       ":   0.00355871886120996artif. sweetener\n",
       ":   0.0032536858159634baby cosmetics\n",
       ":   0.000610066090493137baby food\n",
       ":   0.000101677681748856bags\n",
       ":   0.000406710726995424baking powder\n",
       ":   0.017691916624301bathroom cleaner\n",
       ":   0.00274529740721912beef\n",
       ":   0.0524656837824098berries\n",
       ":   0.033248601931876beverages\n",
       ":   0.0260294865277072bottled beer\n",
       ":   0.0805287239450941bottled water\n",
       ":   0.110523640061007brandy\n",
       ":   0.0041687849517031brown bread\n",
       ":   0.0648703609557702butter\n",
       ":   0.0554143365531266butter milk\n",
       ":   0.0279613624809354cake bar\n",
       ":   0.0132180986273513candles\n",
       ":   0.00894763599389934candy\n",
       ":   0.0298932384341637canned beer\n",
       ":   0.0776817488561261canned fish\n",
       ":   0.0150482968988307canned fruit\n",
       ":   0.0032536858159634canned vegetables\n",
       ":   0.0107778342653787cat food\n",
       ":   0.0232841891204881cereals\n",
       ":   0.00569395017793594chewing gum\n",
       ":   0.0210472801220132chicken\n",
       ":   0.0429079816980173chocolate\n",
       ":   0.0496187086934418chocolate marshmallow\n",
       ":   0.0090493136756482citrus fruit\n",
       ":   0.0827656329435689\n",
       "\n"
      ],
      "text/plain": [
       "     abrasive cleaner      artif. sweetener        baby cosmetics \n",
       "         0.0035587189          0.0032536858          0.0006100661 \n",
       "            baby food                  bags         baking powder \n",
       "         0.0001016777          0.0004067107          0.0176919166 \n",
       "     bathroom cleaner                  beef               berries \n",
       "         0.0027452974          0.0524656838          0.0332486019 \n",
       "            beverages          bottled beer         bottled water \n",
       "         0.0260294865          0.0805287239          0.1105236401 \n",
       "               brandy           brown bread                butter \n",
       "         0.0041687850          0.0648703610          0.0554143366 \n",
       "          butter milk              cake bar               candles \n",
       "         0.0279613625          0.0132180986          0.0089476360 \n",
       "                candy           canned beer           canned fish \n",
       "         0.0298932384          0.0776817489          0.0150482969 \n",
       "         canned fruit     canned vegetables              cat food \n",
       "         0.0032536858          0.0107778343          0.0232841891 \n",
       "              cereals           chewing gum               chicken \n",
       "         0.0056939502          0.0210472801          0.0429079817 \n",
       "            chocolate chocolate marshmallow          citrus fruit \n",
       "         0.0496187087          0.0090493137          0.0827656329 "
      ]
     },
     "metadata": {},
     "output_type": "display_data"
    }
   ],
   "source": [
    "itemFrequency(df[,1:30])"
   ]
  },
  {
   "cell_type": "code",
   "execution_count": 33,
   "metadata": {},
   "outputs": [
    {
     "data": {
      "image/png": "[encoded data removed]",
      "text/plain": [
       "plot without title"
      ]
     },
     "metadata": {},
     "output_type": "display_data"
    }
   ],
   "source": [
    "#plot of 5 most frequent items\n",
    "itemFrequencyPlot(df,topN=5)\n"
   ]
  },
  {
   "cell_type": "code",
   "execution_count": 34,
   "metadata": {},
   "outputs": [
    {
     "data": {
      "image/png": "[encoded data removed]",
      "text/plain": [
       "plot without title"
      ]
     },
     "metadata": {},
     "output_type": "display_data"
    }
   ],
   "source": [
    "itemFrequencyPlot(df,topN=10)"
   ]
  },
  {
   "cell_type": "code",
   "execution_count": 35,
   "metadata": {},
   "outputs": [
    {
     "data": {
      "image/png": "[encoded data removed]",
      "text/plain": [
       "plot without title"
      ]
     },
     "metadata": {},
     "output_type": "display_data"
    }
   ],
   "source": [
    "itemFrequencyPlot(df,topN=25)"
   ]
  },
  {
   "cell_type": "code",
   "execution_count": 36,
   "metadata": {},
   "outputs": [
    {
     "data": {
      "image/png": "[encoded data removed]",
      "text/plain": [
       "plot without title"
      ]
     },
     "metadata": {},
     "output_type": "display_data"
    }
   ],
   "source": [
    "itemFrequencyPlot(df,topN=25,type=\"absolute\")"
   ]
  },
  {
   "cell_type": "code",
   "execution_count": 37,
   "metadata": {},
   "outputs": [
    {
     "name": "stdout",
     "output_type": "stream",
     "text": [
      "Apriori\n",
      "\n",
      "Parameter specification:\n",
      " confidence minval smax arem  aval originalSupport maxtime support minlen\n",
      "        0.8    0.1    1 none FALSE            TRUE       5     0.1      1\n",
      " maxlen target   ext\n",
      "     10  rules FALSE\n",
      "\n",
      "Algorithmic control:\n",
      " filter tree heap memopt load sort verbose\n",
      "    0.1 TRUE TRUE  FALSE TRUE    2    TRUE\n",
      "\n",
      "Absolute minimum support count: 983 \n",
      "\n",
      "set item appearances ...[0 item(s)] done [0.00s].\n",
      "set transactions ...[169 item(s), 9835 transaction(s)] done [0.01s].\n",
      "sorting and recoding items ... [8 item(s)] done [0.00s].\n",
      "creating transaction tree ... done [0.01s].\n",
      "checking subsets of size 1 2 done [0.00s].\n",
      "writing ... [0 rule(s)] done [0.00s].\n",
      "creating S4 object  ... done [0.00s].\n"
     ]
    }
   ],
   "source": [
    "#forming  Association rules using apriori algorithm\n",
    "rules1=apriori(df)\n"
   ]
  },
  {
   "cell_type": "code",
   "execution_count": 38,
   "metadata": {},
   "outputs": [
    {
     "data": {
      "text/plain": [
       "set of 0 rules\n"
      ]
     },
     "metadata": {},
     "output_type": "display_data"
    }
   ],
   "source": [
    "summary(rules1)"
   ]
  },
  {
   "cell_type": "code",
   "execution_count": 39,
   "metadata": {},
   "outputs": [
    {
     "name": "stdout",
     "output_type": "stream",
     "text": [
      "Apriori\n",
      "\n",
      "Parameter specification:\n",
      " confidence minval smax arem  aval originalSupport maxtime support minlen\n",
      "       0.25    0.1    1 none FALSE            TRUE       5   0.007      2\n",
      " maxlen target   ext\n",
      "     10  rules FALSE\n",
      "\n",
      "Algorithmic control:\n",
      " filter tree heap memopt load sort verbose\n",
      "    0.1 TRUE TRUE  FALSE TRUE    2    TRUE\n",
      "\n",
      "Absolute minimum support count: 68 \n",
      "\n",
      "set item appearances ...[0 item(s)] done [0.00s].\n",
      "set transactions ...[169 item(s), 9835 transaction(s)] done [0.01s].\n",
      "sorting and recoding items ... [104 item(s)] done [0.00s].\n",
      "creating transaction tree ... done [0.01s].\n",
      "checking subsets of size 1 2 3 4 done [0.01s].\n",
      "writing ... [363 rule(s)] done [0.00s].\n",
      "creating S4 object  ... done [0.00s].\n"
     ]
    }
   ],
   "source": [
    "#default parameters of apriori function was too stringent\n",
    "#so lowering the min_supp and min_conf\n",
    "rules2=apriori(df, parameter=list(support=0.007, confidence=.25, minlen=2))\n"
   ]
  },
  {
   "cell_type": "code",
   "execution_count": 40,
   "metadata": {},
   "outputs": [
    {
     "data": {
      "text/plain": [
       "set of 363 rules\n",
       "\n",
       "rule length distribution (lhs + rhs):sizes\n",
       "  2   3   4 \n",
       "137 214  12 \n",
       "\n",
       "   Min. 1st Qu.  Median    Mean 3rd Qu.    Max. \n",
       "  2.000   2.000   3.000   2.656   3.000   4.000 \n",
       "\n",
       "summary of quality measures:\n",
       "    support           confidence          lift       \n",
       " Min.   :0.007016   Min.   :0.2500   Min.   :0.9932  \n",
       " 1st Qu.:0.008134   1st Qu.:0.2962   1st Qu.:1.6060  \n",
       " Median :0.009659   Median :0.3551   Median :1.9086  \n",
       " Mean   :0.012945   Mean   :0.3743   Mean   :2.0072  \n",
       " 3rd Qu.:0.013777   3rd Qu.:0.4420   3rd Qu.:2.3289  \n",
       " Max.   :0.074835   Max.   :0.6389   Max.   :3.9565  \n",
       "\n",
       "mining info:\n",
       " data ntransactions support confidence\n",
       "   df          9835   0.007       0.25"
      ]
     },
     "metadata": {},
     "output_type": "display_data"
    }
   ],
   "source": [
    "summary(rules2)"
   ]
  },
  {
   "cell_type": "code",
   "execution_count": 41,
   "metadata": {},
   "outputs": [
    {
     "name": "stdout",
     "output_type": "stream",
     "text": [
      "     lhs                      rhs                support     confidence\n",
      "[1]  {herbs}               => {root vegetables}  0.007015760 0.4312500 \n",
      "[2]  {herbs}               => {other vegetables} 0.007727504 0.4750000 \n",
      "[3]  {herbs}               => {whole milk}       0.007727504 0.4750000 \n",
      "[4]  {processed cheese}    => {whole milk}       0.007015760 0.4233129 \n",
      "[5]  {semi-finished bread} => {whole milk}       0.007117438 0.4022989 \n",
      "[6]  {detergent}           => {whole milk}       0.008947636 0.4656085 \n",
      "[7]  {pickled vegetables}  => {whole milk}       0.007117438 0.3977273 \n",
      "[8]  {baking powder}       => {other vegetables} 0.007320793 0.4137931 \n",
      "[9]  {baking powder}       => {whole milk}       0.009252669 0.5229885 \n",
      "[10] {flour}               => {whole milk}       0.008439248 0.4853801 \n",
      "[11] {soft cheese}         => {other vegetables} 0.007117438 0.4166667 \n",
      "[12] {soft cheese}         => {whole milk}       0.007524148 0.4404762 \n",
      "[13] {specialty bar}       => {soda}             0.007219115 0.2639405 \n",
      "[14] {misc. beverages}     => {soda}             0.007320793 0.2580645 \n",
      "[15] {grapes}              => {other vegetables} 0.009049314 0.4045455 \n",
      "[16] {grapes}              => {whole milk}       0.007320793 0.3272727 \n",
      "[17] {cat food}            => {whole milk}       0.008845958 0.3799127 \n",
      "[18] {specialty chocolate} => {whole milk}       0.008032537 0.2642140 \n",
      "[19] {meat}                => {other vegetables} 0.009964413 0.3858268 \n",
      "[20] {meat}                => {whole milk}       0.009964413 0.3858268 \n",
      "     lift    \n",
      "[1]  3.956477\n",
      "[2]  2.454874\n",
      "[3]  1.858983\n",
      "[4]  1.656698\n",
      "[5]  1.574457\n",
      "[6]  1.822228\n",
      "[7]  1.556565\n",
      "[8]  2.138547\n",
      "[9]  2.046793\n",
      "[10] 1.899607\n",
      "[11] 2.153398\n",
      "[12] 1.723869\n",
      "[13] 1.513618\n",
      "[14] 1.479921\n",
      "[15] 2.090754\n",
      "[16] 1.280831\n",
      "[17] 1.486845\n",
      "[18] 1.034041\n",
      "[19] 1.994013\n",
      "[20] 1.509991\n"
     ]
    }
   ],
   "source": [
    "inspect(rules2[1:20])"
   ]
  },
  {
   "cell_type": "code",
   "execution_count": 42,
   "metadata": {},
   "outputs": [
    {
     "name": "stdout",
     "output_type": "stream",
     "text": [
      "Apriori\n",
      "\n",
      "Parameter specification:\n",
      " confidence minval smax arem  aval originalSupport maxtime support minlen\n",
      "       0.25    0.1    1 none FALSE            TRUE       5   0.007      2\n",
      " maxlen target   ext\n",
      "      5  rules FALSE\n",
      "\n",
      "Algorithmic control:\n",
      " filter tree heap memopt load sort verbose\n",
      "    0.1 TRUE TRUE  FALSE TRUE    2    TRUE\n",
      "\n",
      "Absolute minimum support count: 68 \n",
      "\n",
      "set item appearances ...[0 item(s)] done [0.00s].\n",
      "set transactions ...[169 item(s), 9835 transaction(s)] done [0.01s].\n",
      "sorting and recoding items ... [104 item(s)] done [0.00s].\n",
      "creating transaction tree ... done [0.01s].\n",
      "checking subsets of size 1 2 3 4 done [0.02s].\n",
      "writing ... [363 rule(s)] done [0.00s].\n",
      "creating S4 object  ... done [0.00s].\n"
     ]
    }
   ],
   "source": [
    "#trying maxlen as 3,4,5\n",
    "rules3=apriori(df, parameter=list(support=0.007, confidence=.25, minlen=2, maxlen=5))\n"
   ]
  },
  {
   "cell_type": "code",
   "execution_count": 44,
   "metadata": {},
   "outputs": [
    {
     "name": "stdout",
     "output_type": "stream",
     "text": [
      "     lhs                   rhs                      support confidence     lift\n",
      "[1]  {herbs}            => {root vegetables}    0.007015760  0.4312500 3.956477\n",
      "[2]  {berries}          => {whipped/sour cream} 0.009049314  0.2721713 3.796886\n",
      "[3]  {other vegetables,                                                        \n",
      "      tropical fruit,                                                          \n",
      "      whole milk}       => {root vegetables}    0.007015760  0.4107143 3.768074\n",
      "[4]  {beef,                                                                    \n",
      "      other vegetables} => {root vegetables}    0.007930859  0.4020619 3.688692\n",
      "[5]  {other vegetables,                                                        \n",
      "      tropical fruit}   => {pip fruit}          0.009456024  0.2634561 3.482649\n",
      "[6]  {beef,                                                                    \n",
      "      whole milk}       => {root vegetables}    0.008032537  0.3779904 3.467851\n",
      "[7]  {other vegetables,                                                        \n",
      "      pip fruit}        => {tropical fruit}     0.009456024  0.3618677 3.448613\n",
      "[8]  {citrus fruit,                                                            \n",
      "      other vegetables} => {root vegetables}    0.010371124  0.3591549 3.295045\n",
      "[9]  {other vegetables,                                                        \n",
      "      whole milk,                                                              \n",
      "      yogurt}           => {tropical fruit}     0.007625826  0.3424658 3.263712\n",
      "[10] {other vegetables,                                                        \n",
      "      whole milk,                                                              \n",
      "      yogurt}           => {root vegetables}    0.007829181  0.3515982 3.225716\n",
      "[11] {other vegetables,                                                        \n",
      "      tropical fruit,                                                          \n",
      "      whole milk}       => {yogurt}             0.007625826  0.4464286 3.200164\n",
      "[12] {other vegetables,                                                        \n",
      "      tropical fruit}   => {root vegetables}    0.012302999  0.3427762 3.144780\n",
      "[13] {sliced cheese}    => {sausage}            0.007015760  0.2863071 3.047435\n",
      "[14] {other vegetables,                                                        \n",
      "      tropical fruit}   => {citrus fruit}       0.009049314  0.2521246 3.046248\n",
      "[15] {beef}             => {root vegetables}    0.017386884  0.3313953 3.040367\n"
     ]
    }
   ],
   "source": [
    "#picking the top 15 rules giving the highest lift\n",
    "Lift.rules=inspect(sort(rules2, by='lift')[1:15])\n"
   ]
  },
  {
   "cell_type": "code",
   "execution_count": 45,
   "metadata": {},
   "outputs": [],
   "source": [
    "#creating a vector itf containing the frequency of items\n",
    "itf=itemFrequency(df)\n"
   ]
  },
  {
   "cell_type": "code",
   "execution_count": 46,
   "metadata": {},
   "outputs": [
    {
     "data": {
      "text/html": [
       "'numeric'"
      ],
      "text/latex": [
       "'numeric'"
      ],
      "text/markdown": [
       "'numeric'"
      ],
      "text/plain": [
       "[1] \"numeric\""
      ]
     },
     "metadata": {},
     "output_type": "display_data"
    }
   ],
   "source": [
    "class(itf)"
   ]
  },
  {
   "cell_type": "code",
   "execution_count": 47,
   "metadata": {},
   "outputs": [
    {
     "name": "stdout",
     "output_type": "stream",
     "text": [
      " Named num [1:169] 0.003559 0.003254 0.00061 0.000102 0.000407 ...\n",
      " - attr(*, \"names\")= chr [1:169] \"abrasive cleaner\" \"artif. sweetener\" \"baby cosmetics\" \"baby food\" ...\n"
     ]
    }
   ],
   "source": [
    "str(itf)"
   ]
  },
  {
   "cell_type": "code",
   "execution_count": 48,
   "metadata": {},
   "outputs": [
    {
     "data": {
      "text/html": [
       "169"
      ],
      "text/latex": [
       "169"
      ],
      "text/markdown": [
       "169"
      ],
      "text/plain": [
       "[1] 169"
      ]
     },
     "metadata": {},
     "output_type": "display_data"
    }
   ],
   "source": [
    "length(itf)"
   ]
  },
  {
   "cell_type": "code",
   "execution_count": 49,
   "metadata": {},
   "outputs": [
    {
     "data": {
      "text/html": [
       "<dl class=dl-horizontal>\n",
       "\t<dt>abrasive cleaner</dt>\n",
       "\t\t<dd>0.00355871886120996</dd>\n",
       "\t<dt>artif. sweetener</dt>\n",
       "\t\t<dd>0.0032536858159634</dd>\n",
       "\t<dt>baby cosmetics</dt>\n",
       "\t\t<dd>0.000610066090493137</dd>\n",
       "\t<dt>baby food</dt>\n",
       "\t\t<dd>0.000101677681748856</dd>\n",
       "\t<dt>bags</dt>\n",
       "\t\t<dd>0.000406710726995424</dd>\n",
       "\t<dt>baking powder</dt>\n",
       "\t\t<dd>0.017691916624301</dd>\n",
       "</dl>\n"
      ],
      "text/latex": [
       "\\begin{description*}\n",
       "\\item[abrasive cleaner] 0.00355871886120996\n",
       "\\item[artif. sweetener] 0.0032536858159634\n",
       "\\item[baby cosmetics] 0.000610066090493137\n",
       "\\item[baby food] 0.000101677681748856\n",
       "\\item[bags] 0.000406710726995424\n",
       "\\item[baking powder] 0.017691916624301\n",
       "\\end{description*}\n"
      ],
      "text/markdown": [
       "abrasive cleaner\n",
       ":   0.00355871886120996artif. sweetener\n",
       ":   0.0032536858159634baby cosmetics\n",
       ":   0.000610066090493137baby food\n",
       ":   0.000101677681748856bags\n",
       ":   0.000406710726995424baking powder\n",
       ":   0.017691916624301\n",
       "\n"
      ],
      "text/plain": [
       "abrasive cleaner artif. sweetener   baby cosmetics        baby food \n",
       "    0.0035587189     0.0032536858     0.0006100661     0.0001016777 \n",
       "            bags    baking powder \n",
       "    0.0004067107     0.0176919166 "
      ]
     },
     "metadata": {},
     "output_type": "display_data"
    }
   ],
   "source": [
    "head(itf)"
   ]
  },
  {
   "cell_type": "code",
   "execution_count": 51,
   "metadata": {},
   "outputs": [],
   "source": [
    "#sorting itf as per frequency in descending order\n",
    "itf=sort(itf, decreasing=T)\n"
   ]
  },
  {
   "cell_type": "code",
   "execution_count": 52,
   "metadata": {},
   "outputs": [
    {
     "data": {
      "text/html": [
       "<dl class=dl-horizontal>\n",
       "\t<dt>whole milk</dt>\n",
       "\t\t<dd>0.255516014234875</dd>\n",
       "\t<dt>other vegetables</dt>\n",
       "\t\t<dd>0.193492628368073</dd>\n",
       "\t<dt>rolls/buns</dt>\n",
       "\t\t<dd>0.183934926283681</dd>\n",
       "\t<dt>soda</dt>\n",
       "\t\t<dd>0.174377224199288</dd>\n",
       "\t<dt>yogurt</dt>\n",
       "\t\t<dd>0.139501779359431</dd>\n",
       "\t<dt>bottled water</dt>\n",
       "\t\t<dd>0.110523640061007</dd>\n",
       "</dl>\n"
      ],
      "text/latex": [
       "\\begin{description*}\n",
       "\\item[whole milk] 0.255516014234875\n",
       "\\item[other vegetables] 0.193492628368073\n",
       "\\item[rolls/buns] 0.183934926283681\n",
       "\\item[soda] 0.174377224199288\n",
       "\\item[yogurt] 0.139501779359431\n",
       "\\item[bottled water] 0.110523640061007\n",
       "\\end{description*}\n"
      ],
      "text/markdown": [
       "whole milk\n",
       ":   0.255516014234875other vegetables\n",
       ":   0.193492628368073rolls/buns\n",
       ":   0.183934926283681soda\n",
       ":   0.174377224199288yogurt\n",
       ":   0.139501779359431bottled water\n",
       ":   0.110523640061007\n",
       "\n"
      ],
      "text/plain": [
       "      whole milk other vegetables       rolls/buns             soda \n",
       "       0.2555160        0.1934926        0.1839349        0.1743772 \n",
       "          yogurt    bottled water \n",
       "       0.1395018        0.1105236 "
      ]
     },
     "metadata": {},
     "output_type": "display_data"
    }
   ],
   "source": [
    "head(itf)"
   ]
  },
  {
   "cell_type": "code",
   "execution_count": 54,
   "metadata": {},
   "outputs": [
    {
     "data": {
      "text/html": [
       "<dl class=dl-horizontal>\n",
       "\t<dt>whole milk</dt>\n",
       "\t\t<dd>0.255516014234875</dd>\n",
       "\t<dt>other vegetables</dt>\n",
       "\t\t<dd>0.193492628368073</dd>\n",
       "\t<dt>rolls/buns</dt>\n",
       "\t\t<dd>0.183934926283681</dd>\n",
       "\t<dt>soda</dt>\n",
       "\t\t<dd>0.174377224199288</dd>\n",
       "\t<dt>yogurt</dt>\n",
       "\t\t<dd>0.139501779359431</dd>\n",
       "\t<dt>bottled water</dt>\n",
       "\t\t<dd>0.110523640061007</dd>\n",
       "\t<dt>root vegetables</dt>\n",
       "\t\t<dd>0.108998474834774</dd>\n",
       "\t<dt>tropical fruit</dt>\n",
       "\t\t<dd>0.10493136756482</dd>\n",
       "\t<dt>shopping bags</dt>\n",
       "\t\t<dd>0.0985256736146416</dd>\n",
       "\t<dt>sausage</dt>\n",
       "\t\t<dd>0.0939501779359431</dd>\n",
       "\t<dt>pastry</dt>\n",
       "\t\t<dd>0.0889679715302491</dd>\n",
       "\t<dt>citrus fruit</dt>\n",
       "\t\t<dd>0.0827656329435689</dd>\n",
       "\t<dt>bottled beer</dt>\n",
       "\t\t<dd>0.0805287239450941</dd>\n",
       "\t<dt>newspapers</dt>\n",
       "\t\t<dd>0.0798169801728521</dd>\n",
       "\t<dt>canned beer</dt>\n",
       "\t\t<dd>0.0776817488561261</dd>\n",
       "</dl>\n"
      ],
      "text/latex": [
       "\\begin{description*}\n",
       "\\item[whole milk] 0.255516014234875\n",
       "\\item[other vegetables] 0.193492628368073\n",
       "\\item[rolls/buns] 0.183934926283681\n",
       "\\item[soda] 0.174377224199288\n",
       "\\item[yogurt] 0.139501779359431\n",
       "\\item[bottled water] 0.110523640061007\n",
       "\\item[root vegetables] 0.108998474834774\n",
       "\\item[tropical fruit] 0.10493136756482\n",
       "\\item[shopping bags] 0.0985256736146416\n",
       "\\item[sausage] 0.0939501779359431\n",
       "\\item[pastry] 0.0889679715302491\n",
       "\\item[citrus fruit] 0.0827656329435689\n",
       "\\item[bottled beer] 0.0805287239450941\n",
       "\\item[newspapers] 0.0798169801728521\n",
       "\\item[canned beer] 0.0776817488561261\n",
       "\\end{description*}\n"
      ],
      "text/markdown": [
       "whole milk\n",
       ":   0.255516014234875other vegetables\n",
       ":   0.193492628368073rolls/buns\n",
       ":   0.183934926283681soda\n",
       ":   0.174377224199288yogurt\n",
       ":   0.139501779359431bottled water\n",
       ":   0.110523640061007root vegetables\n",
       ":   0.108998474834774tropical fruit\n",
       ":   0.10493136756482shopping bags\n",
       ":   0.0985256736146416sausage\n",
       ":   0.0939501779359431pastry\n",
       ":   0.0889679715302491citrus fruit\n",
       ":   0.0827656329435689bottled beer\n",
       ":   0.0805287239450941newspapers\n",
       ":   0.0798169801728521canned beer\n",
       ":   0.0776817488561261\n",
       "\n"
      ],
      "text/plain": [
       "      whole milk other vegetables       rolls/buns             soda \n",
       "      0.25551601       0.19349263       0.18393493       0.17437722 \n",
       "          yogurt    bottled water  root vegetables   tropical fruit \n",
       "      0.13950178       0.11052364       0.10899847       0.10493137 \n",
       "   shopping bags          sausage           pastry     citrus fruit \n",
       "      0.09852567       0.09395018       0.08896797       0.08276563 \n",
       "    bottled beer       newspapers      canned beer \n",
       "      0.08052872       0.07981698       0.07768175 "
      ]
     },
     "metadata": {},
     "output_type": "display_data"
    }
   ],
   "source": [
    "#15 most frequent items and their frequency\n",
    "head(itf,15)\n"
   ]
  },
  {
   "cell_type": "code",
   "execution_count": 55,
   "metadata": {},
   "outputs": [
    {
     "data": {
      "text/html": [
       "<dl class=dl-horizontal>\n",
       "\t<dt>frozen fruits</dt>\n",
       "\t\t<dd>0.00122013218098627</dd>\n",
       "\t<dt>hair spray</dt>\n",
       "\t\t<dd>0.00111845449923742</dd>\n",
       "\t<dt>rubbing alcohol</dt>\n",
       "\t\t<dd>0.00101677681748856</dd>\n",
       "\t<dt>liqueur</dt>\n",
       "\t\t<dd>0.000915099135739705</dd>\n",
       "\t<dt>make up remover</dt>\n",
       "\t\t<dd>0.000813421453990849</dd>\n",
       "\t<dt>salad dressing</dt>\n",
       "\t\t<dd>0.000813421453990849</dd>\n",
       "\t<dt>whisky</dt>\n",
       "\t\t<dd>0.000813421453990849</dd>\n",
       "\t<dt>toilet cleaner</dt>\n",
       "\t\t<dd>0.000711743772241993</dd>\n",
       "\t<dt>baby cosmetics</dt>\n",
       "\t\t<dd>0.000610066090493137</dd>\n",
       "\t<dt>frozen chicken</dt>\n",
       "\t\t<dd>0.000610066090493137</dd>\n",
       "\t<dt>bags</dt>\n",
       "\t\t<dd>0.000406710726995424</dd>\n",
       "\t<dt>kitchen utensil</dt>\n",
       "\t\t<dd>0.000406710726995424</dd>\n",
       "\t<dt>preservation products</dt>\n",
       "\t\t<dd>0.000203355363497712</dd>\n",
       "\t<dt>baby food</dt>\n",
       "\t\t<dd>0.000101677681748856</dd>\n",
       "\t<dt>sound storage medium</dt>\n",
       "\t\t<dd>0.000101677681748856</dd>\n",
       "</dl>\n"
      ],
      "text/latex": [
       "\\begin{description*}\n",
       "\\item[frozen fruits] 0.00122013218098627\n",
       "\\item[hair spray] 0.00111845449923742\n",
       "\\item[rubbing alcohol] 0.00101677681748856\n",
       "\\item[liqueur] 0.000915099135739705\n",
       "\\item[make up remover] 0.000813421453990849\n",
       "\\item[salad dressing] 0.000813421453990849\n",
       "\\item[whisky] 0.000813421453990849\n",
       "\\item[toilet cleaner] 0.000711743772241993\n",
       "\\item[baby cosmetics] 0.000610066090493137\n",
       "\\item[frozen chicken] 0.000610066090493137\n",
       "\\item[bags] 0.000406710726995424\n",
       "\\item[kitchen utensil] 0.000406710726995424\n",
       "\\item[preservation products] 0.000203355363497712\n",
       "\\item[baby food] 0.000101677681748856\n",
       "\\item[sound storage medium] 0.000101677681748856\n",
       "\\end{description*}\n"
      ],
      "text/markdown": [
       "frozen fruits\n",
       ":   0.00122013218098627hair spray\n",
       ":   0.00111845449923742rubbing alcohol\n",
       ":   0.00101677681748856liqueur\n",
       ":   0.000915099135739705make up remover\n",
       ":   0.000813421453990849salad dressing\n",
       ":   0.000813421453990849whisky\n",
       ":   0.000813421453990849toilet cleaner\n",
       ":   0.000711743772241993baby cosmetics\n",
       ":   0.000610066090493137frozen chicken\n",
       ":   0.000610066090493137bags\n",
       ":   0.000406710726995424kitchen utensil\n",
       ":   0.000406710726995424preservation products\n",
       ":   0.000203355363497712baby food\n",
       ":   0.000101677681748856sound storage medium\n",
       ":   0.000101677681748856\n",
       "\n"
      ],
      "text/plain": [
       "        frozen fruits            hair spray       rubbing alcohol \n",
       "         0.0012201322          0.0011184545          0.0010167768 \n",
       "              liqueur       make up remover        salad dressing \n",
       "         0.0009150991          0.0008134215          0.0008134215 \n",
       "               whisky        toilet cleaner        baby cosmetics \n",
       "         0.0008134215          0.0007117438          0.0006100661 \n",
       "       frozen chicken                  bags       kitchen utensil \n",
       "         0.0006100661          0.0004067107          0.0004067107 \n",
       "preservation products             baby food  sound storage medium \n",
       "         0.0002033554          0.0001016777          0.0001016777 "
      ]
     },
     "metadata": {},
     "output_type": "display_data"
    }
   ],
   "source": [
    "#15 least  frequent items and their frequency\n",
    "tail(itf,15)\n"
   ]
  },
  {
   "cell_type": "code",
   "execution_count": 56,
   "metadata": {},
   "outputs": [],
   "source": [
    "# creating rules for 5 most frequent items, because they have a good chance of being bought"
   ]
  },
  {
   "cell_type": "code",
   "execution_count": 63,
   "metadata": {},
   "outputs": [
    {
     "data": {
      "text/plain": [
       "set of 26 rules\n",
       "\n",
       "rule length distribution (lhs + rhs):sizes\n",
       " 1  2  3 \n",
       " 1 23  2 \n",
       "\n",
       "   Min. 1st Qu.  Median    Mean 3rd Qu.    Max. \n",
       "  1.000   2.000   2.000   2.038   2.000   3.000 \n",
       "\n",
       "summary of quality measures:\n",
       "    support          confidence          lift       \n",
       " Min.   :0.02044   Min.   :0.2538   Min.   :0.9932  \n",
       " 1st Qu.:0.02344   1st Qu.:0.3533   1st Qu.:1.3828  \n",
       " Median :0.02872   Median :0.3933   Median :1.5392  \n",
       " Mean   :0.04084   Mean   :0.3929   Mean   :1.5376  \n",
       " 3rd Qu.:0.03409   3rd Qu.:0.4428   3rd Qu.:1.7328  \n",
       " Max.   :0.25552   Max.   :0.5129   Max.   :2.0072  \n",
       "\n",
       "mining info:\n",
       " data ntransactions support confidence\n",
       "   df          9835    0.02       0.25"
      ]
     },
     "metadata": {},
     "output_type": "display_data"
    },
    {
     "name": "stdout",
     "output_type": "stream",
     "text": [
      "     lhs                                   rhs          support    confidence\n",
      "[1]  {}                                 => {whole milk} 0.25551601 0.2555160 \n",
      "[2]  {frozen vegetables}                => {whole milk} 0.02043721 0.4249471 \n",
      "[3]  {beef}                             => {whole milk} 0.02125064 0.4050388 \n",
      "[4]  {curd}                             => {whole milk} 0.02613116 0.4904580 \n",
      "[5]  {pork}                             => {whole milk} 0.02216573 0.3844797 \n",
      "[6]  {frankfurter}                      => {whole milk} 0.02053889 0.3482759 \n",
      "[7]  {bottled beer}                     => {whole milk} 0.02043721 0.2537879 \n",
      "[8]  {brown bread}                      => {whole milk} 0.02521607 0.3887147 \n",
      "[9]  {margarine}                        => {whole milk} 0.02419929 0.4131944 \n",
      "[10] {butter}                           => {whole milk} 0.02755465 0.4972477 \n",
      "[11] {newspapers}                       => {whole milk} 0.02735130 0.3426752 \n",
      "[12] {domestic eggs}                    => {whole milk} 0.02999492 0.4727564 \n",
      "[13] {fruit/vegetable juice}            => {whole milk} 0.02663955 0.3684951 \n",
      "[14] {whipped/sour cream}               => {whole milk} 0.03223183 0.4496454 \n",
      "[15] {pip fruit}                        => {whole milk} 0.03009659 0.3978495 \n",
      "[16] {pastry}                           => {whole milk} 0.03324860 0.3737143 \n",
      "[17] {citrus fruit}                     => {whole milk} 0.03050330 0.3685504 \n",
      "[18] {sausage}                          => {whole milk} 0.02989324 0.3181818 \n",
      "[19] {bottled water}                    => {whole milk} 0.03436706 0.3109476 \n",
      "[20] {tropical fruit}                   => {whole milk} 0.04229792 0.4031008 \n",
      "[21] {root vegetables}                  => {whole milk} 0.04890696 0.4486940 \n",
      "[22] {yogurt}                           => {whole milk} 0.05602440 0.4016035 \n",
      "[23] {rolls/buns}                       => {whole milk} 0.05663447 0.3079049 \n",
      "[24] {other vegetables}                 => {whole milk} 0.07483477 0.3867578 \n",
      "[25] {other vegetables,root vegetables} => {whole milk} 0.02318251 0.4892704 \n",
      "[26] {other vegetables,yogurt}          => {whole milk} 0.02226741 0.5128806 \n",
      "     lift     \n",
      "[1]  1.0000000\n",
      "[2]  1.6630940\n",
      "[3]  1.5851795\n",
      "[4]  1.9194805\n",
      "[5]  1.5047187\n",
      "[6]  1.3630295\n",
      "[7]  0.9932367\n",
      "[8]  1.5212930\n",
      "[9]  1.6170980\n",
      "[10] 1.9460530\n",
      "[11] 1.3411103\n",
      "[12] 1.8502027\n",
      "[13] 1.4421604\n",
      "[14] 1.7597542\n",
      "[15] 1.5570432\n",
      "[16] 1.4625865\n",
      "[17] 1.4423768\n",
      "[18] 1.2452520\n",
      "[19] 1.2169396\n",
      "[20] 1.5775950\n",
      "[21] 1.7560310\n",
      "[22] 1.5717351\n",
      "[23] 1.2050318\n",
      "[24] 1.5136341\n",
      "[25] 1.9148326\n",
      "[26] 2.0072345\n"
     ]
    }
   ],
   "source": [
    "#rules4 contain whole milk in its rhs\n",
    "rules4<-apriori(data=df, parameter=list(support=0.02, confidence=.25), \n",
    "               appearance = list(default=\"lhs\",rhs=c('whole milk')),\n",
    "               control = list(verbose=F))\n",
    "summary(rules4)\n",
    "inspect(rules4)\n"
   ]
  },
  {
   "cell_type": "code",
   "execution_count": 64,
   "metadata": {},
   "outputs": [
    {
     "data": {
      "text/plain": [
       "set of 15 rules\n",
       "\n",
       "rule length distribution (lhs + rhs):sizes\n",
       " 2  3 \n",
       "13  2 \n",
       "\n",
       "   Min. 1st Qu.  Median    Mean 3rd Qu.    Max. \n",
       "  2.000   2.000   2.000   2.133   2.000   3.000 \n",
       "\n",
       "summary of quality measures:\n",
       "    support          confidence          lift      \n",
       " Min.   :0.02003   Min.   :0.2537   Min.   :1.311  \n",
       " 1st Qu.:0.02227   1st Qu.:0.3021   1st Qu.:1.561  \n",
       " Median :0.02613   Median :0.3489   Median :1.803  \n",
       " Mean   :0.03103   Mean   :0.3513   Mean   :1.815  \n",
       " 3rd Qu.:0.03238   3rd Qu.:0.3866   3rd Qu.:1.998  \n",
       " Max.   :0.07483   Max.   :0.4740   Max.   :2.450  \n",
       "\n",
       "mining info:\n",
       " data ntransactions support confidence\n",
       "   df          9835    0.02       0.25"
      ]
     },
     "metadata": {},
     "output_type": "display_data"
    },
    {
     "name": "stdout",
     "output_type": "stream",
     "text": [
      "     lhs                             rhs                support    confidence\n",
      "[1]  {pork}                       => {other vegetables} 0.02165735 0.3756614 \n",
      "[2]  {butter}                     => {other vegetables} 0.02003050 0.3614679 \n",
      "[3]  {domestic eggs}              => {other vegetables} 0.02226741 0.3509615 \n",
      "[4]  {fruit/vegetable juice}      => {other vegetables} 0.02104728 0.2911392 \n",
      "[5]  {whipped/sour cream}         => {other vegetables} 0.02887646 0.4028369 \n",
      "[6]  {pip fruit}                  => {other vegetables} 0.02613116 0.3454301 \n",
      "[7]  {pastry}                     => {other vegetables} 0.02257245 0.2537143 \n",
      "[8]  {citrus fruit}               => {other vegetables} 0.02887646 0.3488943 \n",
      "[9]  {sausage}                    => {other vegetables} 0.02694459 0.2867965 \n",
      "[10] {tropical fruit}             => {other vegetables} 0.03589222 0.3420543 \n",
      "[11] {root vegetables}            => {other vegetables} 0.04738180 0.4347015 \n",
      "[12] {yogurt}                     => {other vegetables} 0.04341637 0.3112245 \n",
      "[13] {whole milk}                 => {other vegetables} 0.07483477 0.2928770 \n",
      "[14] {root vegetables,whole milk} => {other vegetables} 0.02318251 0.4740125 \n",
      "[15] {whole milk,yogurt}          => {other vegetables} 0.02226741 0.3974592 \n",
      "     lift    \n",
      "[1]  1.941476\n",
      "[2]  1.868122\n",
      "[3]  1.813824\n",
      "[4]  1.504653\n",
      "[5]  2.081924\n",
      "[6]  1.785237\n",
      "[7]  1.311235\n",
      "[8]  1.803140\n",
      "[9]  1.482209\n",
      "[10] 1.767790\n",
      "[11] 2.246605\n",
      "[12] 1.608457\n",
      "[13] 1.513634\n",
      "[14] 2.449770\n",
      "[15] 2.054131\n"
     ]
    }
   ],
   "source": [
    "#rules5 contain other vegetables in its rhs\n",
    "rules5<-apriori(data=df, parameter=list(support=0.02, confidence=.25), \n",
    "               appearance = list(default=\"lhs\",rhs=c('other vegetables')),\n",
    "               control = list(verbose=F))\n",
    "summary(rules5)\n",
    "inspect(rules5)\n"
   ]
  },
  {
   "cell_type": "code",
   "execution_count": 65,
   "metadata": {},
   "outputs": [
    {
     "data": {
      "text/plain": [
       "set of 1 rules\n",
       "\n",
       "rule length distribution (lhs + rhs):sizes\n",
       "2 \n",
       "1 \n",
       "\n",
       "   Min. 1st Qu.  Median    Mean 3rd Qu.    Max. \n",
       "      2       2       2       2       2       2 \n",
       "\n",
       "summary of quality measures:\n",
       "    support         confidence          lift      \n",
       " Min.   :0.0306   Min.   :0.3258   Min.   :1.771  \n",
       " 1st Qu.:0.0306   1st Qu.:0.3258   1st Qu.:1.771  \n",
       " Median :0.0306   Median :0.3258   Median :1.771  \n",
       " Mean   :0.0306   Mean   :0.3258   Mean   :1.771  \n",
       " 3rd Qu.:0.0306   3rd Qu.:0.3258   3rd Qu.:1.771  \n",
       " Max.   :0.0306   Max.   :0.3258   Max.   :1.771  \n",
       "\n",
       "mining info:\n",
       " data ntransactions support confidence\n",
       "   df          9835    0.02       0.25"
      ]
     },
     "metadata": {},
     "output_type": "display_data"
    },
    {
     "name": "stdout",
     "output_type": "stream",
     "text": [
      "    lhs          rhs          support    confidence lift    \n",
      "[1] {sausage} => {rolls/buns} 0.03060498 0.3257576  1.771048\n"
     ]
    }
   ],
   "source": [
    "#rules6 contain rolls/buns in its rhs\n",
    "rules6<-apriori(data=df, parameter=list(support=0.02, confidence=.25), \n",
    "               appearance = list(default=\"lhs\",rhs=c('rolls/buns')),\n",
    "               control = list(verbose=F))\n",
    "summary(rules6)\n",
    "inspect(rules6)\n"
   ]
  },
  {
   "cell_type": "code",
   "execution_count": 66,
   "metadata": {},
   "outputs": [
    {
     "data": {
      "text/plain": [
       "set of 2 rules\n",
       "\n",
       "rule length distribution (lhs + rhs):sizes\n",
       "2 \n",
       "2 \n",
       "\n",
       "   Min. 1st Qu.  Median    Mean 3rd Qu.    Max. \n",
       "      2       2       2       2       2       2 \n",
       "\n",
       "summary of quality measures:\n",
       "    support          confidence          lift      \n",
       " Min.   :0.02430   Min.   :0.2587   Min.   :1.483  \n",
       " 1st Qu.:0.02547   1st Qu.:0.2595   1st Qu.:1.488  \n",
       " Median :0.02664   Median :0.2604   Median :1.493  \n",
       " Mean   :0.02664   Mean   :0.2604   Mean   :1.493  \n",
       " 3rd Qu.:0.02781   3rd Qu.:0.2613   3rd Qu.:1.499  \n",
       " Max.   :0.02898   Max.   :0.2622   Max.   :1.504  \n",
       "\n",
       "mining info:\n",
       " data ntransactions support confidence\n",
       "   df          9835    0.02       0.25"
      ]
     },
     "metadata": {},
     "output_type": "display_data"
    },
    {
     "name": "stdout",
     "output_type": "stream",
     "text": [
      "    lhs                rhs    support    confidence lift    \n",
      "[1] {sausage}       => {soda} 0.02430097 0.2586580  1.483324\n",
      "[2] {bottled water} => {soda} 0.02897814 0.2621895  1.503577\n"
     ]
    }
   ],
   "source": [
    "#rules7 contain soda in its rhs\n",
    "rules7<-apriori(data=df, parameter=list(support=0.02, confidence=.25), \n",
    "               appearance = list(default=\"lhs\",rhs='soda'),\n",
    "               control = list(verbose=F))\n",
    "summary(rules7)\n",
    "inspect(rules7)\n"
   ]
  },
  {
   "cell_type": "code",
   "execution_count": 67,
   "metadata": {},
   "outputs": [
    {
     "data": {
      "text/plain": [
       "set of 4 rules\n",
       "\n",
       "rule length distribution (lhs + rhs):sizes\n",
       "2 3 \n",
       "3 1 \n",
       "\n",
       "   Min. 1st Qu.  Median    Mean 3rd Qu.    Max. \n",
       "   2.00    2.00    2.00    2.25    2.25    3.00 \n",
       "\n",
       "summary of quality measures:\n",
       "    support          confidence          lift      \n",
       " Min.   :0.02074   Min.   :0.2617   Min.   :1.876  \n",
       " 1st Qu.:0.02143   1st Qu.:0.2747   1st Qu.:1.969  \n",
       " Median :0.02196   Median :0.2842   Median :2.037  \n",
       " Mean   :0.02349   Mean   :0.2819   Mean   :2.021  \n",
       " 3rd Qu.:0.02402   3rd Qu.:0.2914   3rd Qu.:2.089  \n",
       " Max.   :0.02928   Max.   :0.2976   Max.   :2.133  \n",
       "\n",
       "mining info:\n",
       " data ntransactions support confidence\n",
       "   df          9835    0.02       0.25"
      ]
     },
     "metadata": {},
     "output_type": "display_data"
    },
    {
     "name": "stdout",
     "output_type": "stream",
     "text": [
      "    lhs                              rhs      support    confidence lift    \n",
      "[1] {whipped/sour cream}          => {yogurt} 0.02074225 0.2893617  2.074251\n",
      "[2] {citrus fruit}                => {yogurt} 0.02165735 0.2616708  1.875752\n",
      "[3] {tropical fruit}              => {yogurt} 0.02928317 0.2790698  2.000475\n",
      "[4] {other vegetables,whole milk} => {yogurt} 0.02226741 0.2975543  2.132979\n"
     ]
    }
   ],
   "source": [
    "#rules8 contain yogurt in its rhs\n",
    "rules8<-apriori(data=df, parameter=list(support=0.02, confidence=.25), \n",
    "               appearance = list(default=\"lhs\",rhs='yogurt'),\n",
    "               control = list(verbose=F))\n",
    "summary(rules8)\n",
    "inspect(rules8)\n"
   ]
  },
  {
   "cell_type": "code",
   "execution_count": 69,
   "metadata": {},
   "outputs": [],
   "source": [
    "#using Lift.rules and rules 4 to 8 we can make a item recommendation system for the site"
   ]
  },
  {
   "cell_type": "code",
   "execution_count": null,
   "metadata": {},
   "outputs": [],
   "source": []
  }
 ],
 "metadata": {
  "kernelspec": {
   "display_name": "R",
   "language": "R",
   "name": "ir"
  },
  "language_info": {
   "codemirror_mode": "r",
   "file_extension": ".r",
   "mimetype": "text/x-r-source",
   "name": "R",
   "pygments_lexer": "r",
   "version": "3.4.3"
  }
 },
 "nbformat": 4,
 "nbformat_minor": 2
}
